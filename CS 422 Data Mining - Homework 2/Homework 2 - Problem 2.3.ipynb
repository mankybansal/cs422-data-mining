{
 "cells": [
  {
   "cell_type": "code",
   "execution_count": 1,
   "metadata": {
    "collapsed": false
   },
   "outputs": [],
   "source": [
    "import math\n",
    "import numpy as np\n",
    "import pandas as pd\n",
    "from sklearn.metrics.pairwise import cosine_similarity"
   ]
  },
  {
   "cell_type": "code",
   "execution_count": 2,
   "metadata": {
    "collapsed": false
   },
   "outputs": [],
   "source": [
    "data = pd.read_csv('75000-out2-binary.csv')"
   ]
  },
  {
   "cell_type": "code",
   "execution_count": 3,
   "metadata": {
    "collapsed": false
   },
   "outputs": [
    {
     "data": {
      "text/html": [
       "<div>\n",
       "<table border=\"1\" class=\"dataframe\">\n",
       "  <thead>\n",
       "    <tr style=\"text-align: right;\">\n",
       "      <th></th>\n",
       "      <th>Transaction Number</th>\n",
       "      <th>Chocolate Cake</th>\n",
       "      <th>Lemon Cake</th>\n",
       "      <th>Casino Cake</th>\n",
       "      <th>Opera Cake</th>\n",
       "      <th>Strawberry Cake</th>\n",
       "      <th>Truffle Cake</th>\n",
       "      <th>Chocolate Eclair</th>\n",
       "      <th>Coffee Eclair</th>\n",
       "      <th>Vanilla Eclair</th>\n",
       "      <th>...</th>\n",
       "      <th>Lemon Lemonade</th>\n",
       "      <th>Raspberry Lemonade</th>\n",
       "      <th>Orange Juice</th>\n",
       "      <th>Green Tea</th>\n",
       "      <th>Bottled Water</th>\n",
       "      <th>Hot Coffee</th>\n",
       "      <th>Chocolate Coffee</th>\n",
       "      <th>Vanilla Frappuccino</th>\n",
       "      <th>Cherry Soda</th>\n",
       "      <th>Single Espresso</th>\n",
       "    </tr>\n",
       "  </thead>\n",
       "  <tbody>\n",
       "    <tr>\n",
       "      <th>0</th>\n",
       "      <td>1</td>\n",
       "      <td>0</td>\n",
       "      <td>0</td>\n",
       "      <td>0</td>\n",
       "      <td>0</td>\n",
       "      <td>0</td>\n",
       "      <td>0</td>\n",
       "      <td>0</td>\n",
       "      <td>0</td>\n",
       "      <td>0</td>\n",
       "      <td>...</td>\n",
       "      <td>0</td>\n",
       "      <td>0</td>\n",
       "      <td>0</td>\n",
       "      <td>0</td>\n",
       "      <td>0</td>\n",
       "      <td>0</td>\n",
       "      <td>0</td>\n",
       "      <td>0</td>\n",
       "      <td>0</td>\n",
       "      <td>0</td>\n",
       "    </tr>\n",
       "    <tr>\n",
       "      <th>1</th>\n",
       "      <td>2</td>\n",
       "      <td>0</td>\n",
       "      <td>0</td>\n",
       "      <td>0</td>\n",
       "      <td>0</td>\n",
       "      <td>0</td>\n",
       "      <td>0</td>\n",
       "      <td>0</td>\n",
       "      <td>1</td>\n",
       "      <td>0</td>\n",
       "      <td>...</td>\n",
       "      <td>0</td>\n",
       "      <td>0</td>\n",
       "      <td>0</td>\n",
       "      <td>0</td>\n",
       "      <td>0</td>\n",
       "      <td>1</td>\n",
       "      <td>0</td>\n",
       "      <td>0</td>\n",
       "      <td>0</td>\n",
       "      <td>0</td>\n",
       "    </tr>\n",
       "    <tr>\n",
       "      <th>2</th>\n",
       "      <td>3</td>\n",
       "      <td>0</td>\n",
       "      <td>0</td>\n",
       "      <td>0</td>\n",
       "      <td>1</td>\n",
       "      <td>0</td>\n",
       "      <td>0</td>\n",
       "      <td>0</td>\n",
       "      <td>0</td>\n",
       "      <td>0</td>\n",
       "      <td>...</td>\n",
       "      <td>0</td>\n",
       "      <td>0</td>\n",
       "      <td>1</td>\n",
       "      <td>0</td>\n",
       "      <td>0</td>\n",
       "      <td>0</td>\n",
       "      <td>0</td>\n",
       "      <td>0</td>\n",
       "      <td>0</td>\n",
       "      <td>0</td>\n",
       "    </tr>\n",
       "    <tr>\n",
       "      <th>3</th>\n",
       "      <td>4</td>\n",
       "      <td>0</td>\n",
       "      <td>0</td>\n",
       "      <td>0</td>\n",
       "      <td>0</td>\n",
       "      <td>0</td>\n",
       "      <td>1</td>\n",
       "      <td>0</td>\n",
       "      <td>0</td>\n",
       "      <td>0</td>\n",
       "      <td>...</td>\n",
       "      <td>0</td>\n",
       "      <td>0</td>\n",
       "      <td>0</td>\n",
       "      <td>0</td>\n",
       "      <td>0</td>\n",
       "      <td>0</td>\n",
       "      <td>0</td>\n",
       "      <td>1</td>\n",
       "      <td>0</td>\n",
       "      <td>0</td>\n",
       "    </tr>\n",
       "    <tr>\n",
       "      <th>4</th>\n",
       "      <td>5</td>\n",
       "      <td>0</td>\n",
       "      <td>0</td>\n",
       "      <td>0</td>\n",
       "      <td>0</td>\n",
       "      <td>0</td>\n",
       "      <td>0</td>\n",
       "      <td>1</td>\n",
       "      <td>0</td>\n",
       "      <td>0</td>\n",
       "      <td>...</td>\n",
       "      <td>0</td>\n",
       "      <td>0</td>\n",
       "      <td>1</td>\n",
       "      <td>0</td>\n",
       "      <td>0</td>\n",
       "      <td>0</td>\n",
       "      <td>0</td>\n",
       "      <td>0</td>\n",
       "      <td>0</td>\n",
       "      <td>0</td>\n",
       "    </tr>\n",
       "  </tbody>\n",
       "</table>\n",
       "<p>5 rows × 51 columns</p>\n",
       "</div>"
      ],
      "text/plain": [
       "   Transaction Number  Chocolate Cake  Lemon Cake  Casino Cake  Opera Cake  \\\n",
       "0                   1               0           0            0           0   \n",
       "1                   2               0           0            0           0   \n",
       "2                   3               0           0            0           1   \n",
       "3                   4               0           0            0           0   \n",
       "4                   5               0           0            0           0   \n",
       "\n",
       "   Strawberry Cake  Truffle Cake  Chocolate Eclair  Coffee Eclair  \\\n",
       "0                0             0                 0              0   \n",
       "1                0             0                 0              1   \n",
       "2                0             0                 0              0   \n",
       "3                0             1                 0              0   \n",
       "4                0             0                 1              0   \n",
       "\n",
       "   Vanilla Eclair       ...         Lemon Lemonade  Raspberry Lemonade  \\\n",
       "0               0       ...                      0                   0   \n",
       "1               0       ...                      0                   0   \n",
       "2               0       ...                      0                   0   \n",
       "3               0       ...                      0                   0   \n",
       "4               0       ...                      0                   0   \n",
       "\n",
       "   Orange Juice  Green Tea  Bottled Water  Hot Coffee  Chocolate Coffee  \\\n",
       "0             0          0              0           0                 0   \n",
       "1             0          0              0           1                 0   \n",
       "2             1          0              0           0                 0   \n",
       "3             0          0              0           0                 0   \n",
       "4             1          0              0           0                 0   \n",
       "\n",
       "   Vanilla Frappuccino  Cherry Soda  Single Espresso  \n",
       "0                    0            0                0  \n",
       "1                    0            0                0  \n",
       "2                    0            0                0  \n",
       "3                    1            0                0  \n",
       "4                    0            0                0  \n",
       "\n",
       "[5 rows x 51 columns]"
      ]
     },
     "execution_count": 3,
     "metadata": {},
     "output_type": "execute_result"
    }
   ],
   "source": [
    "data.head()"
   ]
  },
  {
   "cell_type": "code",
   "execution_count": 4,
   "metadata": {
    "collapsed": true
   },
   "outputs": [],
   "source": [
    "item1_name = 'Chocolate Cake'\n",
    "item2_name = 'Chocolate Coffee'\n",
    "\n",
    "selection = data[[item1_name,item2_name]]"
   ]
  },
  {
   "cell_type": "code",
   "execution_count": 5,
   "metadata": {
    "collapsed": true
   },
   "outputs": [],
   "source": [
    "item1_count = selection[item1_name] == 1\n",
    "item2_count = selection[item2_name] == 1"
   ]
  },
  {
   "cell_type": "code",
   "execution_count": 6,
   "metadata": {
    "collapsed": false
   },
   "outputs": [
    {
     "name": "stdout",
     "output_type": "stream",
     "text": [
      "                                 Chocolate Cake  Chocolate Coffee\n",
      "Chocolate Cake Chocolate Coffee                                  \n",
      "False          False                      65802             65802\n",
      "               True                        2933              2933\n",
      "True           False                       2962              2962\n",
      "               True                        3303              3303\n"
     ]
    }
   ],
   "source": [
    "f = selection.groupby([item1_count,item2_count]).count()\n",
    "print(f)"
   ]
  },
  {
   "cell_type": "code",
   "execution_count": 7,
   "metadata": {
    "collapsed": false
   },
   "outputs": [
    {
     "name": "stdout",
     "output_type": "stream",
     "text": [
      "65802\n",
      "2933\n",
      "2962\n",
      "3303\n"
     ]
    }
   ],
   "source": [
    "f00 = f[item1_name][0][0]\n",
    "f01 = f[item1_name][0][1]\n",
    "f10 = f[item2_name][1][0]\n",
    "f11 = f[item2_name][1][1]\n",
    "\n",
    "print(f00)\n",
    "print(f01)\n",
    "print(f10)\n",
    "print(f11)"
   ]
  },
  {
   "cell_type": "code",
   "execution_count": 8,
   "metadata": {
    "collapsed": true
   },
   "outputs": [],
   "source": [
    "n1 = f11 + f10\n",
    "n0 = f00 + f01"
   ]
  },
  {
   "cell_type": "code",
   "execution_count": 9,
   "metadata": {
    "collapsed": false
   },
   "outputs": [
    {
     "name": "stdout",
     "output_type": "stream",
     "text": [
      "Binary correlation coefficient Φ:  0.48454355651\n"
     ]
    }
   ],
   "source": [
    "binary_corr = (f11*f00-f01*f10)/math.sqrt(n1*n0*n0*n1)\n",
    "print(\"Binary correlation coefficient Φ1: \",binary_corr)"
   ]
  },
  {
   "cell_type": "code",
   "execution_count": 10,
   "metadata": {
    "collapsed": false
   },
   "outputs": [
    {
     "name": "stdout",
     "output_type": "stream",
     "text": [
      "3303\n",
      "2933\n",
      "2962\n",
      "65802\n"
     ]
    }
   ],
   "source": [
    "f11 = f[item1_name][0][0]\n",
    "f01 = f[item1_name][0][1]\n",
    "f10 = f[item2_name][1][0]\n",
    "f00 = f[item2_name][1][1]\n",
    "\n",
    "print(f00)\n",
    "print(f01)\n",
    "print(f10)\n",
    "print(f11)"
   ]
  },
  {
   "cell_type": "code",
   "execution_count": 11,
   "metadata": {
    "collapsed": true
   },
   "outputs": [],
   "source": [
    "n1 = f11 + f10\n",
    "n0 = f00 + f01"
   ]
  },
  {
   "cell_type": "code",
   "execution_count": 12,
   "metadata": {
    "collapsed": false
   },
   "outputs": [
    {
     "name": "stdout",
     "output_type": "stream",
     "text": [
      "Binary correlation coefficient Φ:  0.4865915881\n"
     ]
    }
   ],
   "source": [
    "binary_corr = (f11*f00-f01*f10)/math.sqrt(n1*n0*n0*n1)\n",
    "print(\"Binary correlation coefficient Φ2: \",binary_corr)"
   ]
  },
  {
   "cell_type": "code",
   "execution_count": 16,
   "metadata": {
    "collapsed": false
   },
   "outputs": [
    {
     "name": "stdout",
     "output_type": "stream",
     "text": [
      "Variables are symmetric since Φ1 & Φ2 are almost the same.\n"
     ]
    }
   ],
   "source": [
    "print(\"Variables are symmetric since Φ1 & Φ2 are almost the same.\")"
   ]
  },
  {
   "cell_type": "code",
   "execution_count": 17,
   "metadata": {
    "collapsed": false
   },
   "outputs": [
    {
     "name": "stdout",
     "output_type": "stream",
     "text": [
      "χ2 coefficient:  17757.8530207\n"
     ]
    }
   ],
   "source": [
    "chi_square = (binary_corr**2) * 75000\n",
    "print(\"χ2 coefficient: \", chi_square)"
   ]
  },
  {
   "cell_type": "code",
   "execution_count": 18,
   "metadata": {
    "collapsed": false
   },
   "outputs": [
    {
     "name": "stdout",
     "output_type": "stream",
     "text": [
      "0.528439146892\n"
     ]
    }
   ],
   "source": [
    "x = selection[item1_name]\n",
    "y = selection[item2_name]\n",
    "\n",
    "cos_xy = cosine_similarity(selection[item1_name].values.reshape(1, -1),\n",
    "                           selection[item2_name].values.reshape(1, -1)).ravel()[0]\n",
    "print(cos_xy)"
   ]
  },
  {
   "cell_type": "code",
   "execution_count": null,
   "metadata": {
    "collapsed": true
   },
   "outputs": [],
   "source": []
  },
  {
   "cell_type": "code",
   "execution_count": null,
   "metadata": {
    "collapsed": true
   },
   "outputs": [],
   "source": []
  },
  {
   "cell_type": "code",
   "execution_count": null,
   "metadata": {
    "collapsed": true
   },
   "outputs": [],
   "source": []
  }
 ],
 "metadata": {
  "kernelspec": {
   "display_name": "Python 3",
   "language": "python",
   "name": "python3"
  },
  "language_info": {
   "codemirror_mode": {
    "name": "ipython",
    "version": 3
   },
   "file_extension": ".py",
   "mimetype": "text/x-python",
   "name": "python",
   "nbconvert_exporter": "python",
   "pygments_lexer": "ipython3",
   "version": "3.5.1"
  }
 },
 "nbformat": 4,
 "nbformat_minor": 1
}
